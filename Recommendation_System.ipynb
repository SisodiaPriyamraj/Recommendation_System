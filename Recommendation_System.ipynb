{
 "cells": [
  {
   "cell_type": "code",
   "execution_count": 1,
   "metadata": {
    "id": "lJiwKQckyAi0"
   },
   "outputs": [],
   "source": [
    "import pandas as pd\n",
    "import numpy as np\n",
    "import difflib\n",
    "from sklearn.feature_extraction.text import TfidfVectorizer\n",
    "from sklearn.metrics.pairwise import cosine_similarity"
   ]
  },
  {
   "cell_type": "code",
   "execution_count": 2,
   "metadata": {
    "id": "-IX1bTZq0ynA"
   },
   "outputs": [],
   "source": [
    "movies_data = pd.read_csv('movies.csv')"
   ]
  },
  {
   "cell_type": "code",
   "execution_count": 3,
   "metadata": {
    "colab": {
     "base_uri": "https://localhost:8080/",
     "height": 837
    },
    "id": "d4DaugiX2-xh",
    "outputId": "0732f107-66b2-46b4-8cb6-d26ed064e321"
   },
   "outputs": [
    {
     "data": {
      "text/html": [
       "<div>\n",
       "<style scoped>\n",
       "    .dataframe tbody tr th:only-of-type {\n",
       "        vertical-align: middle;\n",
       "    }\n",
       "\n",
       "    .dataframe tbody tr th {\n",
       "        vertical-align: top;\n",
       "    }\n",
       "\n",
       "    .dataframe thead th {\n",
       "        text-align: right;\n",
       "    }\n",
       "</style>\n",
       "<table border=\"1\" class=\"dataframe\">\n",
       "  <thead>\n",
       "    <tr style=\"text-align: right;\">\n",
       "      <th></th>\n",
       "      <th>index</th>\n",
       "      <th>budget</th>\n",
       "      <th>genres</th>\n",
       "      <th>homepage</th>\n",
       "      <th>id</th>\n",
       "      <th>keywords</th>\n",
       "      <th>original_language</th>\n",
       "      <th>original_title</th>\n",
       "      <th>overview</th>\n",
       "      <th>popularity</th>\n",
       "      <th>...</th>\n",
       "      <th>runtime</th>\n",
       "      <th>spoken_languages</th>\n",
       "      <th>status</th>\n",
       "      <th>tagline</th>\n",
       "      <th>title</th>\n",
       "      <th>vote_average</th>\n",
       "      <th>vote_count</th>\n",
       "      <th>cast</th>\n",
       "      <th>crew</th>\n",
       "      <th>director</th>\n",
       "    </tr>\n",
       "  </thead>\n",
       "  <tbody>\n",
       "    <tr>\n",
       "      <th>0</th>\n",
       "      <td>0</td>\n",
       "      <td>237000000</td>\n",
       "      <td>Action Adventure Fantasy Science Fiction</td>\n",
       "      <td>http://www.avatarmovie.com/</td>\n",
       "      <td>19995</td>\n",
       "      <td>culture clash future space war space colony so...</td>\n",
       "      <td>en</td>\n",
       "      <td>Avatar</td>\n",
       "      <td>In the 22nd century, a paraplegic Marine is di...</td>\n",
       "      <td>150.437577</td>\n",
       "      <td>...</td>\n",
       "      <td>162.0</td>\n",
       "      <td>[{\"iso_639_1\": \"en\", \"name\": \"English\"}, {\"iso...</td>\n",
       "      <td>Released</td>\n",
       "      <td>Enter the World of Pandora.</td>\n",
       "      <td>Avatar</td>\n",
       "      <td>7.2</td>\n",
       "      <td>11800</td>\n",
       "      <td>Sam Worthington Zoe Saldana Sigourney Weaver S...</td>\n",
       "      <td>[{'name': 'Stephen E. Rivkin', 'gender': 0, 'd...</td>\n",
       "      <td>James Cameron</td>\n",
       "    </tr>\n",
       "    <tr>\n",
       "      <th>1</th>\n",
       "      <td>1</td>\n",
       "      <td>300000000</td>\n",
       "      <td>Adventure Fantasy Action</td>\n",
       "      <td>http://disney.go.com/disneypictures/pirates/</td>\n",
       "      <td>285</td>\n",
       "      <td>ocean drug abuse exotic island east india trad...</td>\n",
       "      <td>en</td>\n",
       "      <td>Pirates of the Caribbean: At World's End</td>\n",
       "      <td>Captain Barbossa, long believed to be dead, ha...</td>\n",
       "      <td>139.082615</td>\n",
       "      <td>...</td>\n",
       "      <td>169.0</td>\n",
       "      <td>[{\"iso_639_1\": \"en\", \"name\": \"English\"}]</td>\n",
       "      <td>Released</td>\n",
       "      <td>At the end of the world, the adventure begins.</td>\n",
       "      <td>Pirates of the Caribbean: At World's End</td>\n",
       "      <td>6.9</td>\n",
       "      <td>4500</td>\n",
       "      <td>Johnny Depp Orlando Bloom Keira Knightley Stel...</td>\n",
       "      <td>[{'name': 'Dariusz Wolski', 'gender': 2, 'depa...</td>\n",
       "      <td>Gore Verbinski</td>\n",
       "    </tr>\n",
       "    <tr>\n",
       "      <th>2</th>\n",
       "      <td>2</td>\n",
       "      <td>245000000</td>\n",
       "      <td>Action Adventure Crime</td>\n",
       "      <td>http://www.sonypictures.com/movies/spectre/</td>\n",
       "      <td>206647</td>\n",
       "      <td>spy based on novel secret agent sequel mi6</td>\n",
       "      <td>en</td>\n",
       "      <td>Spectre</td>\n",
       "      <td>A cryptic message from Bond’s past sends him o...</td>\n",
       "      <td>107.376788</td>\n",
       "      <td>...</td>\n",
       "      <td>148.0</td>\n",
       "      <td>[{\"iso_639_1\": \"fr\", \"name\": \"Fran\\u00e7ais\"},...</td>\n",
       "      <td>Released</td>\n",
       "      <td>A Plan No One Escapes</td>\n",
       "      <td>Spectre</td>\n",
       "      <td>6.3</td>\n",
       "      <td>4466</td>\n",
       "      <td>Daniel Craig Christoph Waltz L\\u00e9a Seydoux ...</td>\n",
       "      <td>[{'name': 'Thomas Newman', 'gender': 2, 'depar...</td>\n",
       "      <td>Sam Mendes</td>\n",
       "    </tr>\n",
       "    <tr>\n",
       "      <th>3</th>\n",
       "      <td>3</td>\n",
       "      <td>250000000</td>\n",
       "      <td>Action Crime Drama Thriller</td>\n",
       "      <td>http://www.thedarkknightrises.com/</td>\n",
       "      <td>49026</td>\n",
       "      <td>dc comics crime fighter terrorist secret ident...</td>\n",
       "      <td>en</td>\n",
       "      <td>The Dark Knight Rises</td>\n",
       "      <td>Following the death of District Attorney Harve...</td>\n",
       "      <td>112.312950</td>\n",
       "      <td>...</td>\n",
       "      <td>165.0</td>\n",
       "      <td>[{\"iso_639_1\": \"en\", \"name\": \"English\"}]</td>\n",
       "      <td>Released</td>\n",
       "      <td>The Legend Ends</td>\n",
       "      <td>The Dark Knight Rises</td>\n",
       "      <td>7.6</td>\n",
       "      <td>9106</td>\n",
       "      <td>Christian Bale Michael Caine Gary Oldman Anne ...</td>\n",
       "      <td>[{'name': 'Hans Zimmer', 'gender': 2, 'departm...</td>\n",
       "      <td>Christopher Nolan</td>\n",
       "    </tr>\n",
       "    <tr>\n",
       "      <th>4</th>\n",
       "      <td>4</td>\n",
       "      <td>260000000</td>\n",
       "      <td>Action Adventure Science Fiction</td>\n",
       "      <td>http://movies.disney.com/john-carter</td>\n",
       "      <td>49529</td>\n",
       "      <td>based on novel mars medallion space travel pri...</td>\n",
       "      <td>en</td>\n",
       "      <td>John Carter</td>\n",
       "      <td>John Carter is a war-weary, former military ca...</td>\n",
       "      <td>43.926995</td>\n",
       "      <td>...</td>\n",
       "      <td>132.0</td>\n",
       "      <td>[{\"iso_639_1\": \"en\", \"name\": \"English\"}]</td>\n",
       "      <td>Released</td>\n",
       "      <td>Lost in our world, found in another.</td>\n",
       "      <td>John Carter</td>\n",
       "      <td>6.1</td>\n",
       "      <td>2124</td>\n",
       "      <td>Taylor Kitsch Lynn Collins Samantha Morton Wil...</td>\n",
       "      <td>[{'name': 'Andrew Stanton', 'gender': 2, 'depa...</td>\n",
       "      <td>Andrew Stanton</td>\n",
       "    </tr>\n",
       "  </tbody>\n",
       "</table>\n",
       "<p>5 rows × 24 columns</p>\n",
       "</div>"
      ],
      "text/plain": [
       "   index     budget                                    genres  \\\n",
       "0      0  237000000  Action Adventure Fantasy Science Fiction   \n",
       "1      1  300000000                  Adventure Fantasy Action   \n",
       "2      2  245000000                    Action Adventure Crime   \n",
       "3      3  250000000               Action Crime Drama Thriller   \n",
       "4      4  260000000          Action Adventure Science Fiction   \n",
       "\n",
       "                                       homepage      id  \\\n",
       "0                   http://www.avatarmovie.com/   19995   \n",
       "1  http://disney.go.com/disneypictures/pirates/     285   \n",
       "2   http://www.sonypictures.com/movies/spectre/  206647   \n",
       "3            http://www.thedarkknightrises.com/   49026   \n",
       "4          http://movies.disney.com/john-carter   49529   \n",
       "\n",
       "                                            keywords original_language  \\\n",
       "0  culture clash future space war space colony so...                en   \n",
       "1  ocean drug abuse exotic island east india trad...                en   \n",
       "2         spy based on novel secret agent sequel mi6                en   \n",
       "3  dc comics crime fighter terrorist secret ident...                en   \n",
       "4  based on novel mars medallion space travel pri...                en   \n",
       "\n",
       "                             original_title  \\\n",
       "0                                    Avatar   \n",
       "1  Pirates of the Caribbean: At World's End   \n",
       "2                                   Spectre   \n",
       "3                     The Dark Knight Rises   \n",
       "4                               John Carter   \n",
       "\n",
       "                                            overview  popularity  ... runtime  \\\n",
       "0  In the 22nd century, a paraplegic Marine is di...  150.437577  ...   162.0   \n",
       "1  Captain Barbossa, long believed to be dead, ha...  139.082615  ...   169.0   \n",
       "2  A cryptic message from Bond’s past sends him o...  107.376788  ...   148.0   \n",
       "3  Following the death of District Attorney Harve...  112.312950  ...   165.0   \n",
       "4  John Carter is a war-weary, former military ca...   43.926995  ...   132.0   \n",
       "\n",
       "                                    spoken_languages    status  \\\n",
       "0  [{\"iso_639_1\": \"en\", \"name\": \"English\"}, {\"iso...  Released   \n",
       "1           [{\"iso_639_1\": \"en\", \"name\": \"English\"}]  Released   \n",
       "2  [{\"iso_639_1\": \"fr\", \"name\": \"Fran\\u00e7ais\"},...  Released   \n",
       "3           [{\"iso_639_1\": \"en\", \"name\": \"English\"}]  Released   \n",
       "4           [{\"iso_639_1\": \"en\", \"name\": \"English\"}]  Released   \n",
       "\n",
       "                                          tagline  \\\n",
       "0                     Enter the World of Pandora.   \n",
       "1  At the end of the world, the adventure begins.   \n",
       "2                           A Plan No One Escapes   \n",
       "3                                 The Legend Ends   \n",
       "4            Lost in our world, found in another.   \n",
       "\n",
       "                                      title vote_average vote_count  \\\n",
       "0                                    Avatar          7.2      11800   \n",
       "1  Pirates of the Caribbean: At World's End          6.9       4500   \n",
       "2                                   Spectre          6.3       4466   \n",
       "3                     The Dark Knight Rises          7.6       9106   \n",
       "4                               John Carter          6.1       2124   \n",
       "\n",
       "                                                cast  \\\n",
       "0  Sam Worthington Zoe Saldana Sigourney Weaver S...   \n",
       "1  Johnny Depp Orlando Bloom Keira Knightley Stel...   \n",
       "2  Daniel Craig Christoph Waltz L\\u00e9a Seydoux ...   \n",
       "3  Christian Bale Michael Caine Gary Oldman Anne ...   \n",
       "4  Taylor Kitsch Lynn Collins Samantha Morton Wil...   \n",
       "\n",
       "                                                crew           director  \n",
       "0  [{'name': 'Stephen E. Rivkin', 'gender': 0, 'd...      James Cameron  \n",
       "1  [{'name': 'Dariusz Wolski', 'gender': 2, 'depa...     Gore Verbinski  \n",
       "2  [{'name': 'Thomas Newman', 'gender': 2, 'depar...         Sam Mendes  \n",
       "3  [{'name': 'Hans Zimmer', 'gender': 2, 'departm...  Christopher Nolan  \n",
       "4  [{'name': 'Andrew Stanton', 'gender': 2, 'depa...     Andrew Stanton  \n",
       "\n",
       "[5 rows x 24 columns]"
      ]
     },
     "execution_count": 3,
     "metadata": {},
     "output_type": "execute_result"
    }
   ],
   "source": [
    "movies_data.head()"
   ]
  },
  {
   "cell_type": "code",
   "execution_count": 4,
   "metadata": {
    "colab": {
     "base_uri": "https://localhost:8080/"
    },
    "id": "Kqp4sL0aiPgK",
    "outputId": "7a813f1f-b026-4d37-9c12-9a07519a2074"
   },
   "outputs": [
    {
     "data": {
      "text/plain": [
       "(4803, 24)"
      ]
     },
     "execution_count": 4,
     "metadata": {},
     "output_type": "execute_result"
    }
   ],
   "source": [
    "movies_data.shape"
   ]
  },
  {
   "cell_type": "code",
   "execution_count": 5,
   "metadata": {
    "colab": {
     "base_uri": "https://localhost:8080/"
    },
    "id": "HG41qCJhirVd",
    "outputId": "58cda933-a90c-451b-f14c-a1e6624b628e"
   },
   "outputs": [
    {
     "name": "stdout",
     "output_type": "stream",
     "text": [
      "['genres', 'keywords', 'popularity', 'tagline', 'cast', 'director']\n"
     ]
    }
   ],
   "source": [
    "selected_features = ['genres', 'keywords', 'popularity', 'tagline', 'cast', 'director']\n",
    "print(selected_features)"
   ]
  },
  {
   "cell_type": "code",
   "execution_count": 6,
   "metadata": {
    "id": "4tRCIGDakcf9"
   },
   "outputs": [],
   "source": [
    "for feature in selected_features:\n",
    "  movies_data[feature] = movies_data[feature].fillna('')\n"
   ]
  },
  {
   "cell_type": "code",
   "execution_count": 7,
   "metadata": {
    "id": "BkvEH0iNl8p0"
   },
   "outputs": [],
   "source": [
    "combined_features = movies_data['genres']+''+movies_data['keywords']+''+movies_data['tagline']+''+movies_data['cast']+''+movies_data['director']"
   ]
  },
  {
   "cell_type": "code",
   "execution_count": 8,
   "metadata": {
    "colab": {
     "base_uri": "https://localhost:8080/"
    },
    "id": "kajm1dVEm0a6",
    "outputId": "98a94317-7e80-47fe-de3d-f231a76acff2"
   },
   "outputs": [
    {
     "data": {
      "text/plain": [
       "0    Action Adventure Fantasy Science Fictioncultur...\n",
       "1    Adventure Fantasy Actionocean drug abuse exoti...\n",
       "2    Action Adventure Crimespy based on novel secre...\n",
       "3    Action Crime Drama Thrillerdc comics crime fig...\n",
       "4    Action Adventure Science Fictionbased on novel...\n",
       "dtype: object"
      ]
     },
     "execution_count": 8,
     "metadata": {},
     "output_type": "execute_result"
    }
   ],
   "source": [
    "combined_features.head()"
   ]
  },
  {
   "cell_type": "code",
   "execution_count": 9,
   "metadata": {
    "id": "8NKiWUZVm8q7"
   },
   "outputs": [],
   "source": [
    "vectorizer = TfidfVectorizer()"
   ]
  },
  {
   "cell_type": "code",
   "execution_count": 10,
   "metadata": {
    "id": "ii2b7-E8nXyj"
   },
   "outputs": [
    {
     "data": {
      "text/plain": [
       "<4803x27580 sparse matrix of type '<class 'numpy.float64'>'\n",
       "\twith 111820 stored elements in Compressed Sparse Row format>"
      ]
     },
     "execution_count": 10,
     "metadata": {},
     "output_type": "execute_result"
    }
   ],
   "source": [
    "feature_vectors = vectorizer.fit_transform(combined_features)\n",
    "feature_vectors\n"
   ]
  },
  {
   "cell_type": "code",
   "execution_count": null,
   "metadata": {
    "colab": {
     "base_uri": "https://localhost:8080/"
    },
    "id": "65FBeD2qoFqK",
    "outputId": "4954ea22-bdfb-4ffa-e3c5-fd9a5ce4f1e2"
   },
   "outputs": [],
   "source": []
  },
  {
   "cell_type": "code",
   "execution_count": 11,
   "metadata": {
    "id": "SRnFCMKWoPqR"
   },
   "outputs": [],
   "source": [
    "similarity = cosine_similarity(feature_vectors)"
   ]
  },
  {
   "cell_type": "code",
   "execution_count": 12,
   "metadata": {
    "colab": {
     "base_uri": "https://localhost:8080/"
    },
    "id": "e2M_GfurpGMC",
    "outputId": "ff374539-a69f-4e1f-dfe5-d104dca91b24"
   },
   "outputs": [
    {
     "name": "stdout",
     "output_type": "stream",
     "text": [
      "[1.         0.06865296 0.01492221 ... 0.         0.         0.        ]\n"
     ]
    }
   ],
   "source": [
    "print(similarity[0,])"
   ]
  },
  {
   "cell_type": "code",
   "execution_count": 13,
   "metadata": {
    "colab": {
     "base_uri": "https://localhost:8080/"
    },
    "id": "4xljNTrvpJFs",
    "outputId": "ff0b718e-3528-469c-e42b-598a0fea6a48"
   },
   "outputs": [
    {
     "name": "stdout",
     "output_type": "stream",
     "text": [
      "(4803, 4803)\n"
     ]
    }
   ],
   "source": [
    "print(similarity.shape)\n",
    "movie_name = \"Batman\""
   ]
  },
  {
   "cell_type": "code",
   "execution_count": 14,
   "metadata": {
    "colab": {
     "base_uri": "https://localhost:8080/"
    },
    "id": "26plW3vjpkiC",
    "outputId": "81742b3f-b0b5-4d98-894f-59956ce8e6b9"
   },
   "outputs": [],
   "source": [
    "list_of_all_titles = movies_data['title'].tolist()\n",
    "# print(list_of_all_titles)"
   ]
  },
  {
   "cell_type": "code",
   "execution_count": 15,
   "metadata": {
    "colab": {
     "base_uri": "https://localhost:8080/"
    },
    "id": "fhIqNu16qZH8",
    "outputId": "49c8f495-3dd9-47a4-9eba-ccdc28e87c26"
   },
   "outputs": [
    {
     "name": "stdout",
     "output_type": "stream",
     "text": [
      "['Batman', 'Batman', 'Catwoman']\n"
     ]
    }
   ],
   "source": [
    "##input movie k closest movies(Features) k according sort karne k liye\n",
    "find_close_match = difflib.get_close_matches(movie_name, list_of_all_titles)\n",
    "print(find_close_match)"
   ]
  },
  {
   "cell_type": "code",
   "execution_count": 16,
   "metadata": {
    "colab": {
     "base_uri": "https://localhost:8080/"
    },
    "id": "2FzTf7Qjq0gq",
    "outputId": "432ce519-3d40-4cf7-e7eb-73d11dffef4c"
   },
   "outputs": [
    {
     "name": "stdout",
     "output_type": "stream",
     "text": [
      "Batman\n"
     ]
    }
   ],
   "source": [
    "close_match= find_close_match[0]\n",
    "print(close_match)"
   ]
  },
  {
   "cell_type": "code",
   "execution_count": 17,
   "metadata": {
    "colab": {
     "base_uri": "https://localhost:8080/"
    },
    "id": "VkU50Q3rrGm-",
    "outputId": "7cdc3c3e-f2a9-4a1f-81cf-2a021c556e8a"
   },
   "outputs": [
    {
     "name": "stdout",
     "output_type": "stream",
     "text": [
      "1359\n"
     ]
    }
   ],
   "source": [
    "##movie ka index find karne k liye\n",
    "index_of_the_movie = movies_data[movies_data.title == close_match]['index'].values[0]\n",
    "print(index_of_the_movie)"
   ]
  },
  {
   "cell_type": "code",
   "execution_count": 18,
   "metadata": {
    "colab": {
     "base_uri": "https://localhost:8080/"
    },
    "id": "BKOkoc1zrxuH",
    "outputId": "7e9f3938-6963-4b3b-89a8-7fe527b2221d"
   },
   "outputs": [],
   "source": [
    "similarity_score = list(enumerate(similarity[index_of_the_movie]))\n",
    "# print(similarity_score)"
   ]
  },
  {
   "cell_type": "code",
   "execution_count": 19,
   "metadata": {
    "colab": {
     "base_uri": "https://localhost:8080/"
    },
    "id": "0aMAGK2guHnm",
    "outputId": "102f132f-fc18-4fbe-ddeb-9481039a11b6"
   },
   "outputs": [
    {
     "data": {
      "text/plain": [
       "4803"
      ]
     },
     "execution_count": 19,
     "metadata": {},
     "output_type": "execute_result"
    }
   ],
   "source": [
    "len(similarity_score)"
   ]
  },
  {
   "cell_type": "code",
   "execution_count": 20,
   "metadata": {
    "colab": {
     "base_uri": "https://localhost:8080/"
    },
    "id": "qxJg3XhEvP8y",
    "outputId": "b0d9fd6e-66b4-4222-acdf-ae45f37cd9c3"
   },
   "outputs": [],
   "source": [
    "##sorting the movies based on similarity score\n",
    "sorted_simlar_movies = sorted(similarity_score, key = lambda x:x[1], reverse=True)\n",
    "# print(sorted_simlar_movies)"
   ]
  },
  {
   "cell_type": "code",
   "execution_count": 21,
   "metadata": {
    "colab": {
     "base_uri": "https://localhost:8080/"
    },
    "id": "pJ7joODXvgqp",
    "outputId": "84270639-a5b9-422e-b5b2-024309bdb537"
   },
   "outputs": [
    {
     "name": "stdout",
     "output_type": "stream",
     "text": [
      "1 . Batman\n",
      "2 . Batman Returns\n",
      "3 . Batman & Robin\n",
      "4 . Batman Begins\n",
      "5 . Man of Steel\n",
      "6 . Beetlejuice\n",
      "7 . Mars Attacks!\n",
      "8 . Superman Returns\n",
      "9 . Jonah Hex\n"
     ]
    }
   ],
   "source": [
    "i = 1\n",
    "for movie in sorted_simlar_movies:\n",
    "  index = movie[0]\n",
    "  title_from_index = movies_data[movies_data.index==index]['title'].values[0]\n",
    "  if (i<10):\n",
    "    print(i, '.', title_from_index)\n",
    "    i+=1\n"
   ]
  },
  {
   "cell_type": "code",
   "execution_count": 22,
   "metadata": {
    "id": "1tTLag4Q1F0T"
   },
   "outputs": [],
   "source": [
    "##Movie Recommendation System"
   ]
  },
  {
   "cell_type": "code",
   "execution_count": 23,
   "metadata": {
    "colab": {
     "base_uri": "https://localhost:8080/"
    },
    "id": "O7_VO4Qv2VqD",
    "outputId": "6b734618-b9db-4d10-c951-927b52d392be"
   },
   "outputs": [],
   "source": [
    "class Movies:\n",
    "    title=\"\"\n",
    "    path=\"\"\n",
    "    overview=\"\"\n",
    "    \n",
    "import json\n",
    "import requests\n",
    "def get_Movies(movie):\n",
    "  Movies_names=[]\n",
    "  Save_Movies=[]\n",
    "  try:\n",
    "    movie_name = movie\n",
    "    list_of_all_titles = movies_data['title'].tolist()\n",
    "    find_close_match = difflib.get_close_matches(movie_name, list_of_all_titles)\n",
    "    close_match= find_close_match[0]\n",
    "    index_of_the_movie = movies_data[movies_data.title == close_match]['index'].values[0]\n",
    "    similarity_score = list(enumerate(similarity[index_of_the_movie]))\n",
    "    sorted_simlar_movies = sorted(similarity_score, key = lambda x:x[1], reverse=True)\n",
    "    print(\"Movies Suggested Movies for you: \")\n",
    "    i = 1\n",
    "    for movie in sorted_simlar_movies:\n",
    "      index = movie[0]\n",
    "      title_from_index = movies_data[movies_data.index==index]['title'].values[0]\n",
    "      Movies_names.append(title_from_index)\n",
    "      if (i<10):\n",
    "        #print(i, '.', title_from_index)\n",
    "        i+=1\n",
    "  except:\n",
    "    print(\"Please Enter a Correct Input: \")\n",
    "\n",
    "  for i in Movies_names[:10]:\n",
    "      title_from_index = i\n",
    "      print(title_from_index)\n",
    "      data = requests.get(\"https://api.themoviedb.org/3/search/movie?api_key=41390bd35466b5e7721cfae486de6748&language=en-US&page=1&query=\" + title_from_index)\n",
    "      movie_data = json.loads(data.text)\n",
    "      mov=Movies()\n",
    "      mov.path='https://image.tmdb.org/t/p/original'+movie_data[\"results\"][0][\"poster_path\"]\n",
    "      mov.title=movie_data[\"results\"][0][\"original_title\"]\n",
    "      mov.overview=movie_data[\"results\"][0][\"overview\"]\n",
    "      Save_Movies.append(mov)\n",
    "      '''imagelink = \"https://image.tmdb.org/t/p/original\" + movie_data[\"results\"][0][\"poster_path\"]\n",
    "      res = requests.get(imagelink)\n",
    "      with open(f\".\\images\\{i}.jpg\", \"wb\") as f:\n",
    "          f.write(res.content)'''\n",
    "  return Save_Movies\n"
   ]
  },
  {
   "cell_type": "code",
   "execution_count": 24,
   "metadata": {
    "id": "baCjLLj-3Nsq"
   },
   "outputs": [
    {
     "name": "stdout",
     "output_type": "stream",
     "text": [
      "      index     budget                                    genres  \\\n",
      "0         0  237000000  Action Adventure Fantasy Science Fiction   \n",
      "1         1  300000000                  Adventure Fantasy Action   \n",
      "2         2  245000000                    Action Adventure Crime   \n",
      "3         3  250000000               Action Crime Drama Thriller   \n",
      "4         4  260000000          Action Adventure Science Fiction   \n",
      "...     ...        ...                                       ...   \n",
      "4798   4798     220000                     Action Crime Thriller   \n",
      "4799   4799       9000                            Comedy Romance   \n",
      "4800   4800          0             Comedy Drama Romance TV Movie   \n",
      "4801   4801          0                                             \n",
      "4802   4802          0                               Documentary   \n",
      "\n",
      "                                               homepage      id  \\\n",
      "0                           http://www.avatarmovie.com/   19995   \n",
      "1          http://disney.go.com/disneypictures/pirates/     285   \n",
      "2           http://www.sonypictures.com/movies/spectre/  206647   \n",
      "3                    http://www.thedarkknightrises.com/   49026   \n",
      "4                  http://movies.disney.com/john-carter   49529   \n",
      "...                                                 ...     ...   \n",
      "4798                                                NaN    9367   \n",
      "4799                                                NaN   72766   \n",
      "4800  http://www.hallmarkchannel.com/signedsealeddel...  231617   \n",
      "4801                        http://shanghaicalling.com/  126186   \n",
      "4802                                                NaN   25975   \n",
      "\n",
      "                                               keywords original_language  \\\n",
      "0     culture clash future space war space colony so...                en   \n",
      "1     ocean drug abuse exotic island east india trad...                en   \n",
      "2            spy based on novel secret agent sequel mi6                en   \n",
      "3     dc comics crime fighter terrorist secret ident...                en   \n",
      "4     based on novel mars medallion space travel pri...                en   \n",
      "...                                                 ...               ...   \n",
      "4798  united states\\u2013mexico barrier legs arms pa...                es   \n",
      "4799                                                                   en   \n",
      "4800  date love at first sight narration investigati...                en   \n",
      "4801                                                                   en   \n",
      "4802               obsession camcorder crush dream girl                en   \n",
      "\n",
      "                                original_title  \\\n",
      "0                                       Avatar   \n",
      "1     Pirates of the Caribbean: At World's End   \n",
      "2                                      Spectre   \n",
      "3                        The Dark Knight Rises   \n",
      "4                                  John Carter   \n",
      "...                                        ...   \n",
      "4798                               El Mariachi   \n",
      "4799                                 Newlyweds   \n",
      "4800                 Signed, Sealed, Delivered   \n",
      "4801                          Shanghai Calling   \n",
      "4802                         My Date with Drew   \n",
      "\n",
      "                                               overview  popularity  ...  \\\n",
      "0     In the 22nd century, a paraplegic Marine is di...  150.437577  ...   \n",
      "1     Captain Barbossa, long believed to be dead, ha...  139.082615  ...   \n",
      "2     A cryptic message from Bond’s past sends him o...  107.376788  ...   \n",
      "3     Following the death of District Attorney Harve...  112.312950  ...   \n",
      "4     John Carter is a war-weary, former military ca...   43.926995  ...   \n",
      "...                                                 ...         ...  ...   \n",
      "4798  El Mariachi just wants to play his guitar and ...   14.269792  ...   \n",
      "4799  A newlywed couple's honeymoon is upended by th...    0.642552  ...   \n",
      "4800  \"Signed, Sealed, Delivered\" introduces a dedic...    1.444476  ...   \n",
      "4801  When ambitious New York attorney Sam is sent t...    0.857008  ...   \n",
      "4802  Ever since the second grade when he first saw ...    1.929883  ...   \n",
      "\n",
      "     runtime                                   spoken_languages    status  \\\n",
      "0      162.0  [{\"iso_639_1\": \"en\", \"name\": \"English\"}, {\"iso...  Released   \n",
      "1      169.0           [{\"iso_639_1\": \"en\", \"name\": \"English\"}]  Released   \n",
      "2      148.0  [{\"iso_639_1\": \"fr\", \"name\": \"Fran\\u00e7ais\"},...  Released   \n",
      "3      165.0           [{\"iso_639_1\": \"en\", \"name\": \"English\"}]  Released   \n",
      "4      132.0           [{\"iso_639_1\": \"en\", \"name\": \"English\"}]  Released   \n",
      "...      ...                                                ...       ...   \n",
      "4798    81.0      [{\"iso_639_1\": \"es\", \"name\": \"Espa\\u00f1ol\"}]  Released   \n",
      "4799    85.0                                                 []  Released   \n",
      "4800   120.0           [{\"iso_639_1\": \"en\", \"name\": \"English\"}]  Released   \n",
      "4801    98.0           [{\"iso_639_1\": \"en\", \"name\": \"English\"}]  Released   \n",
      "4802    90.0           [{\"iso_639_1\": \"en\", \"name\": \"English\"}]  Released   \n",
      "\n",
      "                                                tagline  \\\n",
      "0                           Enter the World of Pandora.   \n",
      "1        At the end of the world, the adventure begins.   \n",
      "2                                 A Plan No One Escapes   \n",
      "3                                       The Legend Ends   \n",
      "4                  Lost in our world, found in another.   \n",
      "...                                                 ...   \n",
      "4798  He didn't come looking for trouble, but troubl...   \n",
      "4799  A newlywed couple's honeymoon is upended by th...   \n",
      "4800                                                      \n",
      "4801                           A New Yorker in Shanghai   \n",
      "4802                                                      \n",
      "\n",
      "                                         title vote_average vote_count  \\\n",
      "0                                       Avatar          7.2      11800   \n",
      "1     Pirates of the Caribbean: At World's End          6.9       4500   \n",
      "2                                      Spectre          6.3       4466   \n",
      "3                        The Dark Knight Rises          7.6       9106   \n",
      "4                                  John Carter          6.1       2124   \n",
      "...                                        ...          ...        ...   \n",
      "4798                               El Mariachi          6.6        238   \n",
      "4799                                 Newlyweds          5.9          5   \n",
      "4800                 Signed, Sealed, Delivered          7.0          6   \n",
      "4801                          Shanghai Calling          5.7          7   \n",
      "4802                         My Date with Drew          6.3         16   \n",
      "\n",
      "                                                   cast  \\\n",
      "0     Sam Worthington Zoe Saldana Sigourney Weaver S...   \n",
      "1     Johnny Depp Orlando Bloom Keira Knightley Stel...   \n",
      "2     Daniel Craig Christoph Waltz L\\u00e9a Seydoux ...   \n",
      "3     Christian Bale Michael Caine Gary Oldman Anne ...   \n",
      "4     Taylor Kitsch Lynn Collins Samantha Morton Wil...   \n",
      "...                                                 ...   \n",
      "4798  Carlos Gallardo Jaime de Hoyos Peter Marquardt...   \n",
      "4799  Edward Burns Kerry Bish\\u00e9 Marsha Dietlein ...   \n",
      "4800  Eric Mabius Kristin Booth Crystal Lowe Geoff G...   \n",
      "4801  Daniel Henney Eliza Coupe Bill Paxton Alan Ruc...   \n",
      "4802  Drew Barrymore Brian Herzlinger Corey Feldman ...   \n",
      "\n",
      "                                                   crew           director  \n",
      "0     [{'name': 'Stephen E. Rivkin', 'gender': 0, 'd...      James Cameron  \n",
      "1     [{'name': 'Dariusz Wolski', 'gender': 2, 'depa...     Gore Verbinski  \n",
      "2     [{'name': 'Thomas Newman', 'gender': 2, 'depar...         Sam Mendes  \n",
      "3     [{'name': 'Hans Zimmer', 'gender': 2, 'departm...  Christopher Nolan  \n",
      "4     [{'name': 'Andrew Stanton', 'gender': 2, 'depa...     Andrew Stanton  \n",
      "...                                                 ...                ...  \n",
      "4798  [{'name': 'Robert Rodriguez', 'gender': 0, 'de...   Robert Rodriguez  \n",
      "4799  [{'name': 'Edward Burns', 'gender': 2, 'depart...       Edward Burns  \n",
      "4800  [{'name': 'Carla Hetland', 'gender': 0, 'depar...        Scott Smith  \n",
      "4801  [{'name': 'Daniel Hsia', 'gender': 2, 'departm...        Daniel Hsia  \n",
      "4802  [{'name': 'Clark Peterson', 'gender': 2, 'depa...   Brian Herzlinger  \n",
      "\n",
      "[4803 rows x 24 columns]\n"
     ]
    }
   ],
   "source": [
    "import requests \n",
    "print(movies_data)"
   ]
  },
  {
   "cell_type": "code",
   "execution_count": 25,
   "metadata": {},
   "outputs": [],
   "source": [
    "index = sorted_simlar_movies[1][0]\n",
    "\n"
   ]
  },
  {
   "cell_type": "code",
   "execution_count": 26,
   "metadata": {},
   "outputs": [
    {
     "name": "stdout",
     "output_type": "stream",
     "text": [
      " * Serving Flask app '__main__'\n",
      " * Debug mode: off\n"
     ]
    },
    {
     "name": "stderr",
     "output_type": "stream",
     "text": [
      "WARNING: This is a development server. Do not use it in a production deployment. Use a production WSGI server instead.\n",
      " * Running on http://127.0.0.1:5000\n",
      "Press CTRL+C to quit\n",
      "127.0.0.1 - - [19/Dec/2023 14:03:53] \"GET / HTTP/1.1\" 200 -\n"
     ]
    },
    {
     "name": "stdout",
     "output_type": "stream",
     "text": [
      "<__main__.Movies object at 0x000001F50441FBE0>\n"
     ]
    },
    {
     "name": "stderr",
     "output_type": "stream",
     "text": [
      "127.0.0.1 - - [19/Dec/2023 14:03:53] \"GET /alt=%22%22 HTTP/1.1\" 404 -\n"
     ]
    },
    {
     "name": "stdout",
     "output_type": "stream",
     "text": [
      "hell\n",
      "Iron man\n",
      "Movies Suggested Movies for you: \n",
      "Iron Man\n",
      "Iron Man 2\n",
      "Iron Man 3\n",
      "The Avengers\n",
      "Captain America: Civil War\n",
      "The Helix... Loaded\n",
      "Avengers: Age of Ultron\n",
      "X-Men: The Last Stand\n",
      "X-Men: Days of Future Past\n",
      "X-Men\n"
     ]
    },
    {
     "name": "stderr",
     "output_type": "stream",
     "text": [
      "127.0.0.1 - - [19/Dec/2023 14:04:12] \"POST / HTTP/1.1\" 200 -\n"
     ]
    },
    {
     "name": "stdout",
     "output_type": "stream",
     "text": [
      "[<__main__.Movies object at 0x000001F506732080>, <__main__.Movies object at 0x000001F5067303D0>, <__main__.Movies object at 0x000001F5067333A0>, <__main__.Movies object at 0x000001F5067337C0>, <__main__.Movies object at 0x000001F506733070>, <__main__.Movies object at 0x000001F506733520>, <__main__.Movies object at 0x000001F506733A90>, <__main__.Movies object at 0x000001F5067332B0>, <__main__.Movies object at 0x000001F506733550>, <__main__.Movies object at 0x000001F506730BB0>]\n"
     ]
    }
   ],
   "source": [
    "from flask import Flask,render_template,request\n",
    "root=Flask(__name__)\n",
    "@root.route(\"/\",methods=[\"GET\",\"POST\"])\n",
    "\n",
    "def home():\n",
    "    if request.method==\"POST\":\n",
    "        print(\"hell\")\n",
    "        movie=request.form['movies']\n",
    "        print(movie)\n",
    "        Save_Movies=[]\n",
    "\n",
    "        mov=get_Movies(movie)\n",
    "        print(mov)  \n",
    "        return render_template('index.html',name=mov)\n",
    "    else:\n",
    "        mov=Movies()\n",
    "        mov.title=\"Enter the movie\"\n",
    "        print(mov)\n",
    "        return render_template('index.html',name=[mov])\n",
    "root.run()\n"
   ]
  },
  {
   "cell_type": "code",
   "execution_count": null,
   "metadata": {},
   "outputs": [],
   "source": []
  },
  {
   "cell_type": "code",
   "execution_count": null,
   "metadata": {},
   "outputs": [],
   "source": [
    "\n"
   ]
  },
  {
   "cell_type": "code",
   "execution_count": null,
   "metadata": {},
   "outputs": [],
   "source": []
  },
  {
   "cell_type": "code",
   "execution_count": null,
   "metadata": {},
   "outputs": [],
   "source": []
  },
  {
   "cell_type": "code",
   "execution_count": null,
   "metadata": {},
   "outputs": [],
   "source": []
  },
  {
   "cell_type": "code",
   "execution_count": null,
   "metadata": {},
   "outputs": [],
   "source": []
  }
 ],
 "metadata": {
  "colab": {
   "provenance": []
  },
  "kernelspec": {
   "display_name": "Python 3 (ipykernel)",
   "language": "python",
   "name": "python3"
  },
  "language_info": {
   "codemirror_mode": {
    "name": "ipython",
    "version": 3
   },
   "file_extension": ".py",
   "mimetype": "text/x-python",
   "name": "python",
   "nbconvert_exporter": "python",
   "pygments_lexer": "ipython3",
   "version": "3.10.9"
  }
 },
 "nbformat": 4,
 "nbformat_minor": 1
}
